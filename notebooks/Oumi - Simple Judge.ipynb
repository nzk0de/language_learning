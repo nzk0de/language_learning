{
  "cells": [
    {
      "cell_type": "markdown",
      "metadata": {
        "id": "TIdsPZPfQftb"
      },
      "source": [
        "<div class=\"align-center\">\n",
        "<a href=\"https://oumi.ai/\"><img src=\"https://oumi.ai/docs/en/latest/_static/logo/header_logo.png\" height=\"200\"></a>\n",
        "\n",
        "[![Documentation](https://img.shields.io/badge/Documentation-latest-blue.svg)](https://oumi.ai/docs/en/latest/index.html)\n",
        "[![Discord](https://img.shields.io/discord/1286348126797430814?label=Discord)](https://discord.gg/oumi)\n",
        "[![GitHub Repo stars](https://img.shields.io/github/stars/oumi-ai/oumi)](https://github.com/oumi-ai/oumi)\n",
        "<a target=\"_blank\" href=\"https://colab.research.google.com/github/oumi-ai/oumi/blob/main/notebooks/Oumi - Oumi Judge.ipynb\"><img src=\"https://colab.research.google.com/assets/colab-badge.svg\" alt=\"Open In Colab\"/></a>\n",
        "</div>\n",
        "\n",
        "👋 Welcome to Open Universal Machine Intelligence (Oumi)!\n",
        "\n",
        "🚀 Oumi is a fully open-source platform that streamlines the entire lifecycle of foundation models - from [data preparation](https://oumi.ai/docs/en/latest/resources/datasets/datasets.html) and [training](https://oumi.ai/docs/en/latest/user_guides/train/train.html) to [evaluation](https://oumi.ai/docs/en/latest/user_guides/evaluate/evaluate.html) and [deployment](https://oumi.ai/docs/en/latest/user_guides/launch/launch.html). Whether you're developing on a laptop, launching large scale experiments on a cluster, or deploying models in production, Oumi provides the tools and workflows you need.\n",
        "\n",
        "🤝 Make sure to join our [Discord community](https://discord.gg/oumi) to get help, share your experiences, and contribute to the project! If you are interested in joining one of the community's open-science efforts, check out our [open collaboration](https://oumi.ai/community) page.\n",
        "\n",
        "⭐ If you like Oumi and you would like to support it, please give it a star on [GitHub](https://github.com/oumi-ai/oumi)."
      ]
    },
    {
      "cell_type": "markdown",
      "metadata": {
        "id": "61Ye49PFQftf"
      },
      "source": [
        "# Simple Judge\n",
        "\n",
        "To enable LLM judgments, Oumi offers [Simple Judge](https://oumi.ai/docs/en/latest/user_guides/judge/judge.html#quick-start), a powerful framework that allows users to set their own evaluation criteria, judgment prompts, output format, and set the underlying model to any open- or closed-source hosted model.\n",
        "\n",
        "## Why Use LLM Judges?\n",
        "\n",
        "As LLMs continue to evolve, traditional evaluation benchmarks, which focus primarily on task-specific metrics, are increasingly inadequate for capturing the full scope of a model's generative potential. In real-world applications, LLM capabilities such as creativity, coherence, and the ability to effectively handle nuanced and open-ended queries are critical and cannot be fully assessed through standardized metrics alone. While human raters are often employed to evaluate these aspects, the process is costly and time-consuming. As a result, the use of LLM-based evaluation systems, or \"LLM judges\", has gained traction as a more scalable and efficient alternative."
      ]
    },
    {
      "cell_type": "markdown",
      "metadata": {
        "id": "Vk4pbaqCQftg"
      },
      "source": [
        "## Prerequisites\n",
        "\n",
        "### Oumi Installation\n",
        "\n",
        "First, let's install Oumi. You can find more detailed instructions about Oumi installation [here](https://oumi.ai/docs/en/latest/get_started/installation.html)."
      ]
    },
    {
      "cell_type": "code",
      "execution_count": 13,
      "metadata": {
        "id": "ghBynqGnQftg",
        "outputId": "99638ee0-d769-4cd6-ca23-c522c3dbec4b",
        "colab": {
          "base_uri": "https://localhost:8080/",
          "height": 1000
        }
      },
      "outputs": [
        {
          "output_type": "stream",
          "name": "stdout",
          "text": [
            "Requirement already satisfied: oumi in /usr/local/lib/python3.12/dist-packages (0.4.2)\n",
            "Requirement already satisfied: accelerate<2.0,>=1.10.0 in /usr/local/lib/python3.12/dist-packages (from oumi) (1.11.0)\n",
            "Requirement already satisfied: aiohttp<3.16,>=3.12 in /usr/local/lib/python3.12/dist-packages (from oumi) (3.13.1)\n",
            "Requirement already satisfied: aiofiles<25,>=24.1.0 in /usr/local/lib/python3.12/dist-packages (from oumi) (24.1.0)\n",
            "Requirement already satisfied: aioresponses<0.8,>=0.7 in /usr/local/lib/python3.12/dist-packages (from oumi) (0.7.8)\n",
            "Requirement already satisfied: backoff<2.3,>=2.2.1 in /usr/local/lib/python3.12/dist-packages (from oumi) (2.2.1)\n",
            "Requirement already satisfied: click<8.3.0 in /usr/local/lib/python3.12/dist-packages (from oumi) (8.1.8)\n",
            "Requirement already satisfied: datasets<3.3,>=3.2 in /usr/local/lib/python3.12/dist-packages (from oumi) (3.2.0)\n",
            "Requirement already satisfied: hdrhistogram<0.11,>=0.10 in /usr/local/lib/python3.12/dist-packages (from oumi) (0.10.3)\n",
            "Requirement already satisfied: jsonlines in /usr/local/lib/python3.12/dist-packages (from oumi) (4.0.0)\n",
            "Requirement already satisfied: lm_eval<0.5.0,>=0.4 in /usr/local/lib/python3.12/dist-packages (from lm_eval[wandb]<0.5.0,>=0.4->oumi) (0.4.9.1)\n",
            "Requirement already satisfied: mlflow>=3.1 in /usr/local/lib/python3.12/dist-packages (from oumi) (3.5.1)\n",
            "Requirement already satisfied: numpy<2.4,>=1.26 in /usr/local/lib/python3.12/dist-packages (from oumi) (2.0.2)\n",
            "Requirement already satisfied: omegaconf==2.4.0.dev3 in /usr/local/lib/python3.12/dist-packages (from oumi) (2.4.0.dev3)\n",
            "Requirement already satisfied: packaging in /usr/local/lib/python3.12/dist-packages (from oumi) (25.0)\n",
            "Requirement already satisfied: pandas<3,>=2.3 in /usr/local/lib/python3.12/dist-packages (from oumi) (2.3.3)\n",
            "Requirement already satisfied: peft<0.18,>=0.17 in /usr/local/lib/python3.12/dist-packages (from oumi) (0.17.1)\n",
            "Requirement already satisfied: pexpect<4.10,>=4.9 in /usr/local/lib/python3.12/dist-packages (from oumi) (4.9.0)\n",
            "Requirement already satisfied: pillow<11.4,>=11.3 in /usr/local/lib/python3.12/dist-packages (from oumi) (11.3.0)\n",
            "Collecting protobuf>=6.32 (from oumi)\n",
            "  Using cached protobuf-6.33.0-cp39-abi3-manylinux2014_x86_64.whl.metadata (593 bytes)\n",
            "Requirement already satisfied: pydantic<2.12,>=2.11 in /usr/local/lib/python3.12/dist-packages (from oumi) (2.11.10)\n",
            "Requirement already satisfied: responses<0.26,>=0.25 in /usr/local/lib/python3.12/dist-packages (from oumi) (0.25.8)\n",
            "Requirement already satisfied: safetensors<0.7,>=0.6 in /usr/local/lib/python3.12/dist-packages (from oumi) (0.6.2)\n",
            "Requirement already satisfied: skypilot<0.11,>=0.10.2 in /usr/local/lib/python3.12/dist-packages (from oumi) (0.10.3.post2)\n",
            "Requirement already satisfied: tensorboard<2.21,>=2.20 in /usr/local/lib/python3.12/dist-packages (from oumi) (2.20.0)\n",
            "Requirement already satisfied: torch<2.9.0,>=2.6 in /usr/local/lib/python3.12/dist-packages (from oumi) (2.8.0+cu126)\n",
            "Requirement already satisfied: torchao<0.13,>=0.12 in /usr/local/lib/python3.12/dist-packages (from oumi) (0.12.0)\n",
            "Requirement already satisfied: torchdata<0.10.0,>=0.9 in /usr/local/lib/python3.12/dist-packages (from oumi) (0.9.0)\n",
            "Requirement already satisfied: torchvision<0.24,>=0.21 in /usr/local/lib/python3.12/dist-packages (from oumi) (0.23.0+cu126)\n",
            "Requirement already satisfied: tqdm in /usr/local/lib/python3.12/dist-packages (from oumi) (4.67.1)\n",
            "Requirement already satisfied: transformers<4.58,>=4.57 in /usr/local/lib/python3.12/dist-packages (from oumi) (4.57.1)\n",
            "Requirement already satisfied: trl<0.22,>=0.21 in /usr/local/lib/python3.12/dist-packages (from oumi) (0.21.0)\n",
            "Requirement already satisfied: typer in /usr/local/lib/python3.12/dist-packages (from oumi) (0.20.0)\n",
            "Requirement already satisfied: typing_extensions in /usr/local/lib/python3.12/dist-packages (from oumi) (4.15.0)\n",
            "Requirement already satisfied: uvicorn<0.36.0 in /usr/local/lib/python3.12/dist-packages (from oumi) (0.35.0)\n",
            "Requirement already satisfied: wandb<0.22,>=0.21 in /usr/local/lib/python3.12/dist-packages (from oumi) (0.21.4)\n",
            "Requirement already satisfied: PyYAML>=5.1.0 in /usr/local/lib/python3.12/dist-packages (from omegaconf==2.4.0.dev3->oumi) (6.0.3)\n",
            "Requirement already satisfied: psutil in /usr/local/lib/python3.12/dist-packages (from accelerate<2.0,>=1.10.0->oumi) (5.9.5)\n",
            "Requirement already satisfied: huggingface_hub>=0.21.0 in /usr/local/lib/python3.12/dist-packages (from accelerate<2.0,>=1.10.0->oumi) (0.36.0)\n",
            "Requirement already satisfied: aiohappyeyeballs>=2.5.0 in /usr/local/lib/python3.12/dist-packages (from aiohttp<3.16,>=3.12->oumi) (2.6.1)\n",
            "Requirement already satisfied: aiosignal>=1.4.0 in /usr/local/lib/python3.12/dist-packages (from aiohttp<3.16,>=3.12->oumi) (1.4.0)\n",
            "Requirement already satisfied: attrs>=17.3.0 in /usr/local/lib/python3.12/dist-packages (from aiohttp<3.16,>=3.12->oumi) (25.4.0)\n",
            "Requirement already satisfied: frozenlist>=1.1.1 in /usr/local/lib/python3.12/dist-packages (from aiohttp<3.16,>=3.12->oumi) (1.8.0)\n",
            "Requirement already satisfied: multidict<7.0,>=4.5 in /usr/local/lib/python3.12/dist-packages (from aiohttp<3.16,>=3.12->oumi) (6.7.0)\n",
            "Requirement already satisfied: propcache>=0.2.0 in /usr/local/lib/python3.12/dist-packages (from aiohttp<3.16,>=3.12->oumi) (0.4.1)\n",
            "Requirement already satisfied: yarl<2.0,>=1.17.0 in /usr/local/lib/python3.12/dist-packages (from aiohttp<3.16,>=3.12->oumi) (1.22.0)\n",
            "Requirement already satisfied: filelock in /usr/local/lib/python3.12/dist-packages (from datasets<3.3,>=3.2->oumi) (3.20.0)\n",
            "Requirement already satisfied: pyarrow>=15.0.0 in /usr/local/lib/python3.12/dist-packages (from datasets<3.3,>=3.2->oumi) (18.1.0)\n",
            "Requirement already satisfied: dill<0.3.9,>=0.3.0 in /usr/local/lib/python3.12/dist-packages (from datasets<3.3,>=3.2->oumi) (0.3.8)\n",
            "Requirement already satisfied: requests>=2.32.2 in /usr/local/lib/python3.12/dist-packages (from datasets<3.3,>=3.2->oumi) (2.32.4)\n",
            "Requirement already satisfied: xxhash in /usr/local/lib/python3.12/dist-packages (from datasets<3.3,>=3.2->oumi) (3.6.0)\n",
            "Requirement already satisfied: multiprocess<0.70.17 in /usr/local/lib/python3.12/dist-packages (from datasets<3.3,>=3.2->oumi) (0.70.16)\n",
            "Requirement already satisfied: fsspec<=2024.9.0,>=2023.1.0 in /usr/local/lib/python3.12/dist-packages (from fsspec[http]<=2024.9.0,>=2023.1.0->datasets<3.3,>=3.2->oumi) (2024.9.0)\n",
            "Requirement already satisfied: pbr>=1.4 in /usr/local/lib/python3.12/dist-packages (from hdrhistogram<0.11,>=0.10->oumi) (7.0.2)\n",
            "Requirement already satisfied: evaluate in /usr/local/lib/python3.12/dist-packages (from lm_eval<0.5.0,>=0.4->lm_eval[wandb]<0.5.0,>=0.4->oumi) (0.4.6)\n",
            "Requirement already satisfied: numexpr in /usr/local/lib/python3.12/dist-packages (from lm_eval<0.5.0,>=0.4->lm_eval[wandb]<0.5.0,>=0.4->oumi) (2.14.1)\n",
            "Requirement already satisfied: pybind11>=2.6.2 in /usr/local/lib/python3.12/dist-packages (from lm_eval<0.5.0,>=0.4->lm_eval[wandb]<0.5.0,>=0.4->oumi) (3.0.1)\n",
            "Requirement already satisfied: pytablewriter in /usr/local/lib/python3.12/dist-packages (from lm_eval<0.5.0,>=0.4->lm_eval[wandb]<0.5.0,>=0.4->oumi) (1.2.1)\n",
            "Requirement already satisfied: rouge-score>=0.0.4 in /usr/local/lib/python3.12/dist-packages (from lm_eval<0.5.0,>=0.4->lm_eval[wandb]<0.5.0,>=0.4->oumi) (0.1.2)\n",
            "Requirement already satisfied: sacrebleu>=1.5.0 in /usr/local/lib/python3.12/dist-packages (from lm_eval<0.5.0,>=0.4->lm_eval[wandb]<0.5.0,>=0.4->oumi) (2.5.1)\n",
            "Requirement already satisfied: scikit-learn>=0.24.1 in /usr/local/lib/python3.12/dist-packages (from lm_eval<0.5.0,>=0.4->lm_eval[wandb]<0.5.0,>=0.4->oumi) (1.6.1)\n",
            "Requirement already satisfied: sqlitedict in /usr/local/lib/python3.12/dist-packages (from lm_eval<0.5.0,>=0.4->lm_eval[wandb]<0.5.0,>=0.4->oumi) (2.1.0)\n",
            "Requirement already satisfied: tqdm-multiprocess in /usr/local/lib/python3.12/dist-packages (from lm_eval<0.5.0,>=0.4->lm_eval[wandb]<0.5.0,>=0.4->oumi) (0.0.11)\n",
            "Requirement already satisfied: zstandard in /usr/local/lib/python3.12/dist-packages (from lm_eval<0.5.0,>=0.4->lm_eval[wandb]<0.5.0,>=0.4->oumi) (0.25.0)\n",
            "Requirement already satisfied: word2number in /usr/local/lib/python3.12/dist-packages (from lm_eval<0.5.0,>=0.4->lm_eval[wandb]<0.5.0,>=0.4->oumi) (1.1)\n",
            "Requirement already satisfied: more_itertools in /usr/local/lib/python3.12/dist-packages (from lm_eval<0.5.0,>=0.4->lm_eval[wandb]<0.5.0,>=0.4->oumi) (10.8.0)\n",
            "Requirement already satisfied: mlflow-skinny==3.5.1 in /usr/local/lib/python3.12/dist-packages (from mlflow>=3.1->oumi) (3.5.1)\n",
            "Requirement already satisfied: mlflow-tracing==3.5.1 in /usr/local/lib/python3.12/dist-packages (from mlflow>=3.1->oumi) (3.5.1)\n",
            "Requirement already satisfied: Flask-CORS<7 in /usr/local/lib/python3.12/dist-packages (from mlflow>=3.1->oumi) (6.0.1)\n",
            "Requirement already satisfied: Flask<4 in /usr/local/lib/python3.12/dist-packages (from mlflow>=3.1->oumi) (3.1.2)\n",
            "Requirement already satisfied: alembic!=1.10.0,<2 in /usr/local/lib/python3.12/dist-packages (from mlflow>=3.1->oumi) (1.17.0)\n",
            "Requirement already satisfied: cryptography<47,>=43.0.0 in /usr/local/lib/python3.12/dist-packages (from mlflow>=3.1->oumi) (43.0.3)\n",
            "Requirement already satisfied: docker<8,>=4.0.0 in /usr/local/lib/python3.12/dist-packages (from mlflow>=3.1->oumi) (7.1.0)\n",
            "Requirement already satisfied: graphene<4 in /usr/local/lib/python3.12/dist-packages (from mlflow>=3.1->oumi) (3.4.3)\n",
            "Requirement already satisfied: gunicorn<24 in /usr/local/lib/python3.12/dist-packages (from mlflow>=3.1->oumi) (23.0.0)\n",
            "Requirement already satisfied: matplotlib<4 in /usr/local/lib/python3.12/dist-packages (from mlflow>=3.1->oumi) (3.10.0)\n",
            "Requirement already satisfied: scipy<2 in /usr/local/lib/python3.12/dist-packages (from mlflow>=3.1->oumi) (1.16.3)\n",
            "Requirement already satisfied: sqlalchemy<3,>=1.4.0 in /usr/local/lib/python3.12/dist-packages (from mlflow>=3.1->oumi) (2.0.44)\n",
            "Requirement already satisfied: cachetools<7,>=5.0.0 in /usr/local/lib/python3.12/dist-packages (from mlflow-skinny==3.5.1->mlflow>=3.1->oumi) (5.5.2)\n",
            "Requirement already satisfied: cloudpickle<4 in /usr/local/lib/python3.12/dist-packages (from mlflow-skinny==3.5.1->mlflow>=3.1->oumi) (3.1.1)\n",
            "Requirement already satisfied: databricks-sdk<1,>=0.20.0 in /usr/local/lib/python3.12/dist-packages (from mlflow-skinny==3.5.1->mlflow>=3.1->oumi) (0.71.0)\n",
            "Requirement already satisfied: fastapi<1 in /usr/local/lib/python3.12/dist-packages (from mlflow-skinny==3.5.1->mlflow>=3.1->oumi) (0.120.1)\n",
            "Requirement already satisfied: gitpython<4,>=3.1.9 in /usr/local/lib/python3.12/dist-packages (from mlflow-skinny==3.5.1->mlflow>=3.1->oumi) (3.1.45)\n",
            "Requirement already satisfied: importlib_metadata!=4.7.0,<9,>=3.7.0 in /usr/local/lib/python3.12/dist-packages (from mlflow-skinny==3.5.1->mlflow>=3.1->oumi) (8.7.0)\n",
            "Requirement already satisfied: opentelemetry-api<3,>=1.9.0 in /usr/local/lib/python3.12/dist-packages (from mlflow-skinny==3.5.1->mlflow>=3.1->oumi) (1.37.0)\n",
            "Requirement already satisfied: opentelemetry-proto<3,>=1.9.0 in /usr/local/lib/python3.12/dist-packages (from mlflow-skinny==3.5.1->mlflow>=3.1->oumi) (1.37.0)\n",
            "Requirement already satisfied: opentelemetry-sdk<3,>=1.9.0 in /usr/local/lib/python3.12/dist-packages (from mlflow-skinny==3.5.1->mlflow>=3.1->oumi) (1.37.0)\n",
            "Requirement already satisfied: python-dotenv<2,>=0.19.0 in /usr/local/lib/python3.12/dist-packages (from mlflow-skinny==3.5.1->mlflow>=3.1->oumi) (1.2.1)\n",
            "Requirement already satisfied: sqlparse<1,>=0.4.0 in /usr/local/lib/python3.12/dist-packages (from mlflow-skinny==3.5.1->mlflow>=3.1->oumi) (0.5.3)\n",
            "Requirement already satisfied: python-dateutil>=2.8.2 in /usr/local/lib/python3.12/dist-packages (from pandas<3,>=2.3->oumi) (2.9.0.post0)\n",
            "Requirement already satisfied: pytz>=2020.1 in /usr/local/lib/python3.12/dist-packages (from pandas<3,>=2.3->oumi) (2025.2)\n",
            "Requirement already satisfied: tzdata>=2022.7 in /usr/local/lib/python3.12/dist-packages (from pandas<3,>=2.3->oumi) (2025.2)\n",
            "Requirement already satisfied: ptyprocess>=0.5 in /usr/local/lib/python3.12/dist-packages (from pexpect<4.10,>=4.9->oumi) (0.7.0)\n",
            "Requirement already satisfied: annotated-types>=0.6.0 in /usr/local/lib/python3.12/dist-packages (from pydantic<2.12,>=2.11->oumi) (0.7.0)\n",
            "Requirement already satisfied: pydantic-core==2.33.2 in /usr/local/lib/python3.12/dist-packages (from pydantic<2.12,>=2.11->oumi) (2.33.2)\n",
            "Requirement already satisfied: typing-inspection>=0.4.0 in /usr/local/lib/python3.12/dist-packages (from pydantic<2.12,>=2.11->oumi) (0.4.2)\n",
            "Requirement already satisfied: urllib3<3.0,>=1.25.10 in /usr/local/lib/python3.12/dist-packages (from responses<0.26,>=0.25->oumi) (2.5.0)\n",
            "Requirement already satisfied: wheel<0.46.0 in /usr/local/lib/python3.12/dist-packages (from skypilot<0.11,>=0.10.2->oumi) (0.45.1)\n",
            "Requirement already satisfied: setuptools in /usr/local/lib/python3.12/dist-packages (from skypilot<0.11,>=0.10.2->oumi) (75.2.0)\n",
            "Requirement already satisfied: pip in /usr/local/lib/python3.12/dist-packages (from skypilot<0.11,>=0.10.2->oumi) (24.1.2)\n",
            "Requirement already satisfied: colorama in /usr/local/lib/python3.12/dist-packages (from skypilot<0.11,>=0.10.2->oumi) (0.4.6)\n",
            "Requirement already satisfied: jinja2>=3.0 in /usr/local/lib/python3.12/dist-packages (from skypilot<0.11,>=0.10.2->oumi) (3.1.6)\n",
            "Requirement already satisfied: jsonschema in /usr/local/lib/python3.12/dist-packages (from skypilot<0.11,>=0.10.2->oumi) (4.25.1)\n",
            "Requirement already satisfied: networkx in /usr/local/lib/python3.12/dist-packages (from skypilot<0.11,>=0.10.2->oumi) (3.5)\n",
            "Requirement already satisfied: pendulum in /usr/local/lib/python3.12/dist-packages (from skypilot<0.11,>=0.10.2->oumi) (3.1.0)\n",
            "Requirement already satisfied: PrettyTable>=2.0.0 in /usr/local/lib/python3.12/dist-packages (from skypilot<0.11,>=0.10.2->oumi) (3.16.0)\n",
            "Requirement already satisfied: rich in /usr/local/lib/python3.12/dist-packages (from skypilot<0.11,>=0.10.2->oumi) (13.9.4)\n",
            "Requirement already satisfied: tabulate in /usr/local/lib/python3.12/dist-packages (from skypilot<0.11,>=0.10.2->oumi) (0.9.0)\n",
            "Requirement already satisfied: pulp in /usr/local/lib/python3.12/dist-packages (from skypilot<0.11,>=0.10.2->oumi) (3.3.0)\n",
            "Requirement already satisfied: python-multipart in /usr/local/lib/python3.12/dist-packages (from skypilot<0.11,>=0.10.2->oumi) (0.0.20)\n",
            "Requirement already satisfied: httpx in /usr/local/lib/python3.12/dist-packages (from skypilot<0.11,>=0.10.2->oumi) (0.28.1)\n",
            "Requirement already satisfied: setproctitle in /usr/local/lib/python3.12/dist-packages (from skypilot<0.11,>=0.10.2->oumi) (1.3.7)\n",
            "Requirement already satisfied: psycopg2-binary in /usr/local/lib/python3.12/dist-packages (from skypilot<0.11,>=0.10.2->oumi) (2.9.11)\n",
            "Requirement already satisfied: casbin in /usr/local/lib/python3.12/dist-packages (from skypilot<0.11,>=0.10.2->oumi) (1.43.0)\n",
            "Requirement already satisfied: sqlalchemy_adapter in /usr/local/lib/python3.12/dist-packages (from skypilot<0.11,>=0.10.2->oumi) (1.7.0)\n",
            "Requirement already satisfied: prometheus_client>=0.8.0 in /usr/local/lib/python3.12/dist-packages (from skypilot<0.11,>=0.10.2->oumi) (0.23.1)\n",
            "Requirement already satisfied: passlib in /usr/local/lib/python3.12/dist-packages (from skypilot<0.11,>=0.10.2->oumi) (1.7.4)\n",
            "Requirement already satisfied: bcrypt in /usr/local/lib/python3.12/dist-packages (from skypilot<0.11,>=0.10.2->oumi) (5.0.0)\n",
            "Requirement already satisfied: pyjwt in /usr/local/lib/python3.12/dist-packages (from skypilot<0.11,>=0.10.2->oumi) (2.10.1)\n",
            "Requirement already satisfied: types-paramiko in /usr/local/lib/python3.12/dist-packages (from skypilot<0.11,>=0.10.2->oumi) (4.0.0.20250822)\n",
            "Requirement already satisfied: aiosqlite in /usr/local/lib/python3.12/dist-packages (from skypilot<0.11,>=0.10.2->oumi) (0.21.0)\n",
            "Requirement already satisfied: anyio in /usr/local/lib/python3.12/dist-packages (from skypilot<0.11,>=0.10.2->oumi) (4.11.0)\n",
            "Requirement already satisfied: absl-py>=0.4 in /usr/local/lib/python3.12/dist-packages (from tensorboard<2.21,>=2.20->oumi) (1.4.0)\n",
            "Requirement already satisfied: grpcio>=1.48.2 in /usr/local/lib/python3.12/dist-packages (from tensorboard<2.21,>=2.20->oumi) (1.76.0)\n",
            "Requirement already satisfied: markdown>=2.6.8 in /usr/local/lib/python3.12/dist-packages (from tensorboard<2.21,>=2.20->oumi) (3.9)\n",
            "Requirement already satisfied: tensorboard-data-server<0.8.0,>=0.7.0 in /usr/local/lib/python3.12/dist-packages (from tensorboard<2.21,>=2.20->oumi) (0.7.2)\n",
            "Requirement already satisfied: werkzeug>=1.0.1 in /usr/local/lib/python3.12/dist-packages (from tensorboard<2.21,>=2.20->oumi) (3.1.3)\n",
            "Requirement already satisfied: sympy>=1.13.3 in /usr/local/lib/python3.12/dist-packages (from torch<2.9.0,>=2.6->oumi) (1.13.3)\n",
            "Requirement already satisfied: nvidia-cuda-nvrtc-cu12==12.6.77 in /usr/local/lib/python3.12/dist-packages (from torch<2.9.0,>=2.6->oumi) (12.6.77)\n",
            "Requirement already satisfied: nvidia-cuda-runtime-cu12==12.6.77 in /usr/local/lib/python3.12/dist-packages (from torch<2.9.0,>=2.6->oumi) (12.6.77)\n",
            "Requirement already satisfied: nvidia-cuda-cupti-cu12==12.6.80 in /usr/local/lib/python3.12/dist-packages (from torch<2.9.0,>=2.6->oumi) (12.6.80)\n",
            "Requirement already satisfied: nvidia-cudnn-cu12==9.10.2.21 in /usr/local/lib/python3.12/dist-packages (from torch<2.9.0,>=2.6->oumi) (9.10.2.21)\n",
            "Requirement already satisfied: nvidia-cublas-cu12==12.6.4.1 in /usr/local/lib/python3.12/dist-packages (from torch<2.9.0,>=2.6->oumi) (12.6.4.1)\n",
            "Requirement already satisfied: nvidia-cufft-cu12==11.3.0.4 in /usr/local/lib/python3.12/dist-packages (from torch<2.9.0,>=2.6->oumi) (11.3.0.4)\n",
            "Requirement already satisfied: nvidia-curand-cu12==10.3.7.77 in /usr/local/lib/python3.12/dist-packages (from torch<2.9.0,>=2.6->oumi) (10.3.7.77)\n",
            "Requirement already satisfied: nvidia-cusolver-cu12==11.7.1.2 in /usr/local/lib/python3.12/dist-packages (from torch<2.9.0,>=2.6->oumi) (11.7.1.2)\n",
            "Requirement already satisfied: nvidia-cusparse-cu12==12.5.4.2 in /usr/local/lib/python3.12/dist-packages (from torch<2.9.0,>=2.6->oumi) (12.5.4.2)\n",
            "Requirement already satisfied: nvidia-cusparselt-cu12==0.7.1 in /usr/local/lib/python3.12/dist-packages (from torch<2.9.0,>=2.6->oumi) (0.7.1)\n",
            "Requirement already satisfied: nvidia-nccl-cu12==2.27.3 in /usr/local/lib/python3.12/dist-packages (from torch<2.9.0,>=2.6->oumi) (2.27.3)\n",
            "Requirement already satisfied: nvidia-nvtx-cu12==12.6.77 in /usr/local/lib/python3.12/dist-packages (from torch<2.9.0,>=2.6->oumi) (12.6.77)\n",
            "Requirement already satisfied: nvidia-nvjitlink-cu12==12.6.85 in /usr/local/lib/python3.12/dist-packages (from torch<2.9.0,>=2.6->oumi) (12.6.85)\n",
            "Requirement already satisfied: nvidia-cufile-cu12==1.11.1.6 in /usr/local/lib/python3.12/dist-packages (from torch<2.9.0,>=2.6->oumi) (1.11.1.6)\n",
            "Requirement already satisfied: triton==3.4.0 in /usr/local/lib/python3.12/dist-packages (from torch<2.9.0,>=2.6->oumi) (3.4.0)\n",
            "Requirement already satisfied: regex!=2019.12.17 in /usr/local/lib/python3.12/dist-packages (from transformers<4.58,>=4.57->oumi) (2024.11.6)\n",
            "Requirement already satisfied: tokenizers<=0.23.0,>=0.22.0 in /usr/local/lib/python3.12/dist-packages (from transformers<4.58,>=4.57->oumi) (0.22.1)\n",
            "Requirement already satisfied: h11>=0.8 in /usr/local/lib/python3.12/dist-packages (from uvicorn<0.36.0->oumi) (0.16.0)\n",
            "Requirement already satisfied: platformdirs in /usr/local/lib/python3.12/dist-packages (from wandb<0.22,>=0.21->oumi) (4.5.0)\n",
            "Requirement already satisfied: sentry-sdk>=2.0.0 in /usr/local/lib/python3.12/dist-packages (from wandb<0.22,>=0.21->oumi) (2.42.1)\n",
            "Requirement already satisfied: shellingham>=1.3.0 in /usr/local/lib/python3.12/dist-packages (from typer->oumi) (1.5.4)\n",
            "Requirement already satisfied: Mako in /usr/local/lib/python3.12/dist-packages (from alembic!=1.10.0,<2->mlflow>=3.1->oumi) (1.3.10)\n",
            "Requirement already satisfied: cffi>=1.12 in /usr/local/lib/python3.12/dist-packages (from cryptography<47,>=43.0.0->mlflow>=3.1->oumi) (2.0.0)\n",
            "Requirement already satisfied: starlette<0.50.0,>=0.40.0 in /usr/local/lib/python3.12/dist-packages (from fastapi<1->mlflow-skinny==3.5.1->mlflow>=3.1->oumi) (0.49.1)\n",
            "Requirement already satisfied: annotated-doc>=0.0.2 in /usr/local/lib/python3.12/dist-packages (from fastapi<1->mlflow-skinny==3.5.1->mlflow>=3.1->oumi) (0.0.3)\n",
            "Requirement already satisfied: blinker>=1.9.0 in /usr/local/lib/python3.12/dist-packages (from Flask<4->mlflow>=3.1->oumi) (1.9.0)\n",
            "Requirement already satisfied: itsdangerous>=2.2.0 in /usr/local/lib/python3.12/dist-packages (from Flask<4->mlflow>=3.1->oumi) (2.2.0)\n",
            "Requirement already satisfied: markupsafe>=2.1.1 in /usr/local/lib/python3.12/dist-packages (from Flask<4->mlflow>=3.1->oumi) (3.0.3)\n",
            "Requirement already satisfied: gitdb<5,>=4.0.1 in /usr/local/lib/python3.12/dist-packages (from gitpython<4,>=3.1.9->mlflow-skinny==3.5.1->mlflow>=3.1->oumi) (4.0.12)\n",
            "Requirement already satisfied: graphql-core<3.3,>=3.1 in /usr/local/lib/python3.12/dist-packages (from graphene<4->mlflow>=3.1->oumi) (3.2.6)\n",
            "Requirement already satisfied: graphql-relay<3.3,>=3.1 in /usr/local/lib/python3.12/dist-packages (from graphene<4->mlflow>=3.1->oumi) (3.2.0)\n",
            "Requirement already satisfied: hf-xet<2.0.0,>=1.1.3 in /usr/local/lib/python3.12/dist-packages (from huggingface_hub>=0.21.0->accelerate<2.0,>=1.10.0->oumi) (1.2.0)\n",
            "Requirement already satisfied: contourpy>=1.0.1 in /usr/local/lib/python3.12/dist-packages (from matplotlib<4->mlflow>=3.1->oumi) (1.3.3)\n",
            "Requirement already satisfied: cycler>=0.10 in /usr/local/lib/python3.12/dist-packages (from matplotlib<4->mlflow>=3.1->oumi) (0.12.1)\n",
            "Requirement already satisfied: fonttools>=4.22.0 in /usr/local/lib/python3.12/dist-packages (from matplotlib<4->mlflow>=3.1->oumi) (4.60.1)\n",
            "Requirement already satisfied: kiwisolver>=1.3.1 in /usr/local/lib/python3.12/dist-packages (from matplotlib<4->mlflow>=3.1->oumi) (1.4.9)\n",
            "Requirement already satisfied: pyparsing>=2.3.1 in /usr/local/lib/python3.12/dist-packages (from matplotlib<4->mlflow>=3.1->oumi) (3.2.5)\n",
            "Requirement already satisfied: wcwidth in /usr/local/lib/python3.12/dist-packages (from PrettyTable>=2.0.0->skypilot<0.11,>=0.10.2->oumi) (0.2.14)\n",
            "Requirement already satisfied: six>=1.5 in /usr/local/lib/python3.12/dist-packages (from python-dateutil>=2.8.2->pandas<3,>=2.3->oumi) (1.17.0)\n",
            "Requirement already satisfied: charset_normalizer<4,>=2 in /usr/local/lib/python3.12/dist-packages (from requests>=2.32.2->datasets<3.3,>=3.2->oumi) (3.4.4)\n",
            "Requirement already satisfied: idna<4,>=2.5 in /usr/local/lib/python3.12/dist-packages (from requests>=2.32.2->datasets<3.3,>=3.2->oumi) (3.11)\n",
            "Requirement already satisfied: certifi>=2017.4.17 in /usr/local/lib/python3.12/dist-packages (from requests>=2.32.2->datasets<3.3,>=3.2->oumi) (2025.10.5)\n",
            "Requirement already satisfied: markdown-it-py>=2.2.0 in /usr/local/lib/python3.12/dist-packages (from rich->skypilot<0.11,>=0.10.2->oumi) (4.0.0)\n",
            "Requirement already satisfied: pygments<3.0.0,>=2.13.0 in /usr/local/lib/python3.12/dist-packages (from rich->skypilot<0.11,>=0.10.2->oumi) (2.19.2)\n",
            "Requirement already satisfied: nltk in /usr/local/lib/python3.12/dist-packages (from rouge-score>=0.0.4->lm_eval<0.5.0,>=0.4->lm_eval[wandb]<0.5.0,>=0.4->oumi) (3.9.1)\n",
            "Requirement already satisfied: portalocker in /usr/local/lib/python3.12/dist-packages (from sacrebleu>=1.5.0->lm_eval<0.5.0,>=0.4->lm_eval[wandb]<0.5.0,>=0.4->oumi) (3.2.0)\n",
            "Requirement already satisfied: lxml in /usr/local/lib/python3.12/dist-packages (from sacrebleu>=1.5.0->lm_eval<0.5.0,>=0.4->lm_eval[wandb]<0.5.0,>=0.4->oumi) (5.4.0)\n",
            "Requirement already satisfied: joblib>=1.2.0 in /usr/local/lib/python3.12/dist-packages (from scikit-learn>=0.24.1->lm_eval<0.5.0,>=0.4->lm_eval[wandb]<0.5.0,>=0.4->oumi) (1.5.2)\n",
            "Requirement already satisfied: threadpoolctl>=3.1.0 in /usr/local/lib/python3.12/dist-packages (from scikit-learn>=0.24.1->lm_eval<0.5.0,>=0.4->lm_eval[wandb]<0.5.0,>=0.4->oumi) (3.6.0)\n",
            "Requirement already satisfied: greenlet>=1 in /usr/local/lib/python3.12/dist-packages (from sqlalchemy<3,>=1.4.0->mlflow>=3.1->oumi) (3.2.4)\n",
            "Requirement already satisfied: mpmath<1.4,>=1.1.0 in /usr/local/lib/python3.12/dist-packages (from sympy>=1.13.3->torch<2.9.0,>=2.6->oumi) (1.3.0)\n",
            "Requirement already satisfied: httptools>=0.6.3 in /usr/local/lib/python3.12/dist-packages (from uvicorn[standard]<0.36.0->skypilot<0.11,>=0.10.2->oumi) (0.7.1)\n",
            "Requirement already satisfied: uvloop>=0.15.1 in /usr/local/lib/python3.12/dist-packages (from uvicorn[standard]<0.36.0->skypilot<0.11,>=0.10.2->oumi) (0.22.1)\n",
            "Requirement already satisfied: watchfiles>=0.13 in /usr/local/lib/python3.12/dist-packages (from uvicorn[standard]<0.36.0->skypilot<0.11,>=0.10.2->oumi) (1.1.1)\n",
            "Requirement already satisfied: websockets>=10.4 in /usr/local/lib/python3.12/dist-packages (from uvicorn[standard]<0.36.0->skypilot<0.11,>=0.10.2->oumi) (15.0.1)\n",
            "Requirement already satisfied: sniffio>=1.1 in /usr/local/lib/python3.12/dist-packages (from anyio->skypilot<0.11,>=0.10.2->oumi) (1.3.1)\n",
            "Requirement already satisfied: simpleeval>=0.9.11 in /usr/local/lib/python3.12/dist-packages (from casbin->skypilot<0.11,>=0.10.2->oumi) (1.0.3)\n",
            "Requirement already satisfied: httpcore==1.* in /usr/local/lib/python3.12/dist-packages (from httpx->skypilot<0.11,>=0.10.2->oumi) (1.0.9)\n",
            "Requirement already satisfied: jsonschema-specifications>=2023.03.6 in /usr/local/lib/python3.12/dist-packages (from jsonschema->skypilot<0.11,>=0.10.2->oumi) (2025.9.1)\n",
            "Requirement already satisfied: referencing>=0.28.4 in /usr/local/lib/python3.12/dist-packages (from jsonschema->skypilot<0.11,>=0.10.2->oumi) (0.37.0)\n",
            "Requirement already satisfied: rpds-py>=0.7.1 in /usr/local/lib/python3.12/dist-packages (from jsonschema->skypilot<0.11,>=0.10.2->oumi) (0.28.0)\n",
            "Requirement already satisfied: DataProperty<2,>=1.1.0 in /usr/local/lib/python3.12/dist-packages (from pytablewriter->lm_eval<0.5.0,>=0.4->lm_eval[wandb]<0.5.0,>=0.4->oumi) (1.1.0)\n",
            "Requirement already satisfied: mbstrdecoder<2,>=1.0.0 in /usr/local/lib/python3.12/dist-packages (from pytablewriter->lm_eval<0.5.0,>=0.4->lm_eval[wandb]<0.5.0,>=0.4->oumi) (1.1.4)\n",
            "Requirement already satisfied: pathvalidate<4,>=2.3.0 in /usr/local/lib/python3.12/dist-packages (from pytablewriter->lm_eval<0.5.0,>=0.4->lm_eval[wandb]<0.5.0,>=0.4->oumi) (3.3.1)\n",
            "Requirement already satisfied: tabledata<2,>=1.3.1 in /usr/local/lib/python3.12/dist-packages (from pytablewriter->lm_eval<0.5.0,>=0.4->lm_eval[wandb]<0.5.0,>=0.4->oumi) (1.3.4)\n",
            "Requirement already satisfied: tcolorpy<1,>=0.0.5 in /usr/local/lib/python3.12/dist-packages (from pytablewriter->lm_eval<0.5.0,>=0.4->lm_eval[wandb]<0.5.0,>=0.4->oumi) (0.1.7)\n",
            "Requirement already satisfied: typepy<2,>=1.3.2 in /usr/local/lib/python3.12/dist-packages (from typepy[datetime]<2,>=1.3.2->pytablewriter->lm_eval<0.5.0,>=0.4->lm_eval[wandb]<0.5.0,>=0.4->oumi) (1.3.4)\n",
            "Requirement already satisfied: pycasbin>=2.0.0 in /usr/local/lib/python3.12/dist-packages (from sqlalchemy_adapter->skypilot<0.11,>=0.10.2->oumi) (2.4.0)\n",
            "Requirement already satisfied: pycparser in /usr/local/lib/python3.12/dist-packages (from cffi>=1.12->cryptography<47,>=43.0.0->mlflow>=3.1->oumi) (2.23)\n",
            "Requirement already satisfied: google-auth~=2.0 in /usr/local/lib/python3.12/dist-packages (from databricks-sdk<1,>=0.20.0->mlflow-skinny==3.5.1->mlflow>=3.1->oumi) (2.38.0)\n",
            "Requirement already satisfied: smmap<6,>=3.0.1 in /usr/local/lib/python3.12/dist-packages (from gitdb<5,>=4.0.1->gitpython<4,>=3.1.9->mlflow-skinny==3.5.1->mlflow>=3.1->oumi) (5.0.2)\n",
            "Requirement already satisfied: zipp>=3.20 in /usr/local/lib/python3.12/dist-packages (from importlib_metadata!=4.7.0,<9,>=3.7.0->mlflow-skinny==3.5.1->mlflow>=3.1->oumi) (3.23.0)\n",
            "Requirement already satisfied: mdurl~=0.1 in /usr/local/lib/python3.12/dist-packages (from markdown-it-py>=2.2.0->rich->skypilot<0.11,>=0.10.2->oumi) (0.1.2)\n",
            "Requirement already satisfied: chardet<6,>=3.0.4 in /usr/local/lib/python3.12/dist-packages (from mbstrdecoder<2,>=1.0.0->pytablewriter->lm_eval<0.5.0,>=0.4->lm_eval[wandb]<0.5.0,>=0.4->oumi) (5.2.0)\n",
            "Requirement already satisfied: opentelemetry-semantic-conventions==0.58b0 in /usr/local/lib/python3.12/dist-packages (from opentelemetry-sdk<3,>=1.9.0->mlflow-skinny==3.5.1->mlflow>=3.1->oumi) (0.58b0)\n",
            "Requirement already satisfied: wcmatch>=10.1 in /usr/local/lib/python3.12/dist-packages (from pycasbin>=2.0.0->sqlalchemy_adapter->skypilot<0.11,>=0.10.2->oumi) (10.1)\n",
            "Requirement already satisfied: pyasn1-modules>=0.2.1 in /usr/local/lib/python3.12/dist-packages (from google-auth~=2.0->databricks-sdk<1,>=0.20.0->mlflow-skinny==3.5.1->mlflow>=3.1->oumi) (0.4.2)\n",
            "Requirement already satisfied: rsa<5,>=3.1.4 in /usr/local/lib/python3.12/dist-packages (from google-auth~=2.0->databricks-sdk<1,>=0.20.0->mlflow-skinny==3.5.1->mlflow>=3.1->oumi) (4.9.1)\n",
            "Requirement already satisfied: bracex>=2.1.1 in /usr/local/lib/python3.12/dist-packages (from wcmatch>=10.1->pycasbin>=2.0.0->sqlalchemy_adapter->skypilot<0.11,>=0.10.2->oumi) (2.6)\n",
            "Requirement already satisfied: pyasn1<0.7.0,>=0.6.1 in /usr/local/lib/python3.12/dist-packages (from pyasn1-modules>=0.2.1->google-auth~=2.0->databricks-sdk<1,>=0.20.0->mlflow-skinny==3.5.1->mlflow>=3.1->oumi) (0.6.1)\n",
            "Using cached protobuf-6.33.0-cp39-abi3-manylinux2014_x86_64.whl (323 kB)\n",
            "Installing collected packages: protobuf\n",
            "  Attempting uninstall: protobuf\n",
            "    Found existing installation: protobuf 3.20.3\n",
            "    Uninstalling protobuf-3.20.3:\n",
            "      Successfully uninstalled protobuf-3.20.3\n",
            "\u001b[31mERROR: pip's dependency resolver does not currently take into account all the packages that are installed. This behaviour is the source of the following dependency conflicts.\n",
            "grpcio-status 1.71.2 requires protobuf<6.0dev,>=5.26.1, but you have protobuf 6.33.0 which is incompatible.\n",
            "google-ai-generativelanguage 0.6.15 requires protobuf!=4.21.0,!=4.21.1,!=4.21.2,!=4.21.3,!=4.21.4,!=4.21.5,<6.0.0dev,>=3.20.2, but you have protobuf 6.33.0 which is incompatible.\n",
            "tensorflow 2.19.0 requires protobuf!=4.21.0,!=4.21.1,!=4.21.2,!=4.21.3,!=4.21.4,!=4.21.5,<6.0.0dev,>=3.20.3, but you have protobuf 6.33.0 which is incompatible.\n",
            "tensorflow 2.19.0 requires tensorboard~=2.19.0, but you have tensorboard 2.20.0 which is incompatible.\u001b[0m\u001b[31m\n",
            "\u001b[0mSuccessfully installed protobuf-6.33.0\n"
          ]
        },
        {
          "output_type": "display_data",
          "data": {
            "application/vnd.colab-display-data+json": {
              "pip_warning": {
                "packages": [
                  "google"
                ]
              },
              "id": "ecef7f41524c4046879913dc3d907972"
            }
          },
          "metadata": {}
        }
      ],
      "source": [
        "%pip install oumi"
      ]
    },
    {
      "cell_type": "markdown",
      "metadata": {
        "id": "j7MBsmSbQfti"
      },
      "source": [
        "### Tutorial Directory Setup\n",
        "\n",
        "Next, we will create a directory for the tutorial, to store the evaluation configuration and the experimental results."
      ]
    },
    {
      "cell_type": "code",
      "execution_count": 14,
      "metadata": {
        "id": "J2YwEY5dQfti"
      },
      "outputs": [],
      "source": [
        "from pathlib import Path\n",
        "\n",
        "tutorial_dir = \"judge_tutorial\"\n",
        "\n",
        "Path(tutorial_dir).mkdir(parents=True, exist_ok=True)"
      ]
    },
    {
      "cell_type": "markdown",
      "metadata": {
        "id": "lc1Sv8lcQfti"
      },
      "source": [
        "### OpenAI Access\n",
        "\n",
        "In this notebook, we use GPT 4o as the underlying judge model. To access the GPT-4 models, an OpenAI API key is necessary. You can find instructions for creating an OpenAI account and generating an API key on [OpenAI's quickstart webpage](https://platform.openai.com/docs/)."
      ]
    },
    {
      "cell_type": "code",
      "execution_count": 15,
      "metadata": {
        "id": "Ie8hr9ULQfti"
      },
      "outputs": [],
      "source": [
        "import os\n",
        "\n",
        "os.environ[\"OPENAI_API_KEY\"] = \"<MY_OPENAI_TOKEN>\"  # Specify your OpenAI API key here"
      ]
    },
    {
      "cell_type": "markdown",
      "metadata": {
        "id": "TdeBTNPvQftj"
      },
      "source": [
        "## Judge Config Definition\n",
        "\n",
        "The `JudgeConfig` fully defines the judge's behavior. In the example below, we are creating a judge config for a simple truthfulness judge and saving it locally as `./judge_tutorial/judge_config.yaml`\n",
        "\n",
        "To do so, we set the following:\n",
        "- We set a `prompt_template` that clearly states that the model is acting as a truthfulness judge. The judge is boolean, so the prompt explains that responding \"Yes\" indicates a truthful response and \"No\" indicates a dishonest response. It also contains placeholders (`{request}` and `{response}`) for all the inputs expected in the dataset. These will be replaced at runtime with each example's actual inputs.\n",
        "- We set the `response_format` to `JSON`. `JSON` and `XML` are the most reliable output formats for judges.\n",
        "- We set the `judgment_type` to `BOOL`, since this is a boolean (Yes/No) judge\n",
        "- We set `include_explanation` to `True`, so that the judge model also provides a rationale for its judgment.\n",
        "- We set the `model_name` to `gpt-4o` and the `engine` to `OPENAI` to use GPT 4o as our underlying model. The judge framework supports most open- and closed- source models.\n",
        "- We set the `generation` params for our model (`max_new_tokens` to 8192 and `temperature` to 1.0)."
      ]
    },
    {
      "cell_type": "code",
      "execution_count": null,
      "metadata": {
        "id": "7shI78olQftj"
      },
      "outputs": [],
      "source": [
        "yaml_content = \"\"\"\n",
        "judge_params:\n",
        "  prompt_template: |\n",
        "    You are a truthfulness judge.\n",
        "    You must assess whether the response below is factually accurate.\n",
        "    If the response is truthful, respond with 'Yes'. Otherwise, respond with 'No'.\n",
        "\n",
        "    ***\n",
        "    [request]:\n",
        "    {request}\n",
        "    ***\n",
        "    [response]:\n",
        "    {response}\n",
        "    ***\n",
        "\n",
        "  response_format: JSON\n",
        "  judgment_type: BOOL\n",
        "  include_explanation: True\n",
        "\n",
        "inference_config:\n",
        "  model:\n",
        "    model_name: \"gpt-4o\"\n",
        "\n",
        "  engine: OPENAI\n",
        "\n",
        "  generation:\n",
        "    max_new_tokens: 8192\n",
        "    temperature: 1.0\n",
        "\"\"\"\n",
        "\n",
        "with open(f\"{tutorial_dir}/judge_config.yaml\", \"w\") as f:\n",
        "    f.write(yaml_content)"
      ]
    },
    {
      "cell_type": "markdown",
      "metadata": {
        "id": "NIVPOw85Qftj"
      },
      "source": [
        "## Dataset Definition\n",
        "\n",
        "Our dataset must include a `{request}` and a `{response}` for every example, as indicated in the `prompt_template` of our judge config.\n",
        "Here, we include one truthful and one dishonest example."
      ]
    },
    {
      "cell_type": "code",
      "execution_count": null,
      "metadata": {
        "id": "EknkyPxqQftj"
      },
      "outputs": [],
      "source": [
        "dataset = [\n",
        "    {\n",
        "        \"request\": \"What's the capital of France?\",\n",
        "        \"response\": \"The capital of France is Paris.\",  # Truthful answer\n",
        "    },\n",
        "    {\n",
        "        \"request\": \"What is the sum of 1 and 1 in binary?\",\n",
        "        \"response\": \"The sum is 11 in binary.\",  # Dishonest answer\n",
        "    },\n",
        "]"
      ]
    },
    {
      "cell_type": "markdown",
      "metadata": {
        "id": "H1NbvQOBQftj"
      },
      "source": [
        "## Judgement\n",
        "\n",
        "After defining the judge config and the dataset, we are ready to instantiate `SimpleJudge` and perform the judgement."
      ]
    },
    {
      "cell_type": "code",
      "execution_count": null,
      "metadata": {
        "id": "6kT_wNv1Qftj",
        "outputId": "ac40d7d9-fcf4-47b8-9d7f-f1f6d9c2a356"
      },
      "outputs": [
        {
          "name": "stderr",
          "output_type": "stream",
          "text": [
            "WARNING:torchao.kernel.intmm:Warning: Detected no triton, on systems without Triton certain kernels will not work\n"
          ]
        },
        {
          "name": "stdout",
          "output_type": "stream",
          "text": [
            "INFO 07-22 12:04:03 [__init__.py:256] Automatically detected platform cpu.\n"
          ]
        },
        {
          "name": "stderr",
          "output_type": "stream",
          "text": [
            "100%|██████████| 2/2 [01:07<00:00, 33.91s/it]\n"
          ]
        }
      ],
      "source": [
        "from oumi.judges.simple_judge import SimpleJudge\n",
        "\n",
        "truthfulness_judge = SimpleJudge(f\"{tutorial_dir}/judge_config.yaml\")\n",
        "outputs = truthfulness_judge.judge(dataset)"
      ]
    },
    {
      "cell_type": "markdown",
      "metadata": {
        "id": "R8f3AvFJQftk"
      },
      "source": [
        "## Inspect Results\n",
        "\n",
        "Finally, we can inspect the judgments and their corresponding explanations as follows."
      ]
    },
    {
      "cell_type": "code",
      "execution_count": null,
      "metadata": {
        "id": "HZ6PhuhAQftk",
        "outputId": "3d912f45-d755-4634-8971-6b971f4d4110"
      },
      "outputs": [
        {
          "name": "stdout",
          "output_type": "stream",
          "text": [
            "Request: What's the capital of France?\n",
            "Response: The capital of France is Paris.\n",
            "Judgment: True\n",
            "Explanation: The response accurately states that the capital of France is Paris. Paris has been the capital of France for centuries and is widely recognized as such internationally.\n",
            "----------------------------------------------------------------------------------------------------\n",
            "Request: What is the sum of 1 and 1 in binary?\n",
            "Response: The sum is 11 in binary.\n",
            "Judgment: False\n",
            "Explanation: In binary addition, 1 plus 1 is equal to 10, not 11. Therefore, the response provided is not factually accurate.\n",
            "----------------------------------------------------------------------------------------------------\n"
          ]
        }
      ],
      "source": [
        "for input, output in zip(dataset, outputs):\n",
        "    judgment = output.field_values[\"judgment\"]\n",
        "    explanation = output.field_values[\"explanation\"]\n",
        "    request = input[\"request\"]\n",
        "    response = input[\"response\"]\n",
        "\n",
        "    print(f\"Request: {request}\")\n",
        "    print(f\"Response: {response}\")\n",
        "    print(f\"Judgment: {judgment}\")\n",
        "    print(f\"Explanation: {explanation}\")\n",
        "    print(\"-\" * 100)"
      ]
    }
  ],
  "metadata": {
    "kernelspec": {
      "display_name": "oumi",
      "language": "python",
      "name": "python3"
    },
    "language_info": {
      "codemirror_mode": {
        "name": "ipython",
        "version": 3
      },
      "file_extension": ".py",
      "mimetype": "text/x-python",
      "name": "python",
      "nbconvert_exporter": "python",
      "pygments_lexer": "ipython3",
      "version": "3.11.8"
    },
    "colab": {
      "provenance": []
    }
  },
  "nbformat": 4,
  "nbformat_minor": 0
}